{
 "cells": [
  {
   "cell_type": "markdown",
   "id": "e34db8e3",
   "metadata": {},
   "source": [
    "## Step 1: Load module and read in files"
   ]
  },
  {
   "cell_type": "code",
   "execution_count": null,
   "id": "3733eccc",
   "metadata": {},
   "outputs": [],
   "source": [
    "import pandas as pd"
   ]
  },
  {
   "cell_type": "code",
   "execution_count": null,
   "id": "30be76d0",
   "metadata": {},
   "outputs": [],
   "source": [
    "# Read in rel file as pandas dataframe\n",
    "data = pd.read_csv(r\"\\\\wsl.localhost\\Ubuntu\\home\\lfahey\\ukb\\ukb_rel_a71469_s488140.dat\", sep=' ')"
   ]
  },
  {
   "cell_type": "code",
   "execution_count": null,
   "id": "09ec7aa2",
   "metadata": {},
   "outputs": [],
   "source": [
    "# Read in ids to exclude\n",
    "with open(r\"\\\\wsl.localhost\\Ubuntu\\home\\lfahey\\ukb\\ids_to_exclude.txt\") as f:\n",
    "    ids_to_exclude = f.read().splitlines() "
   ]
  },
  {
   "cell_type": "code",
   "execution_count": null,
   "id": "262e35a0",
   "metadata": {},
   "outputs": [],
   "source": [
    "# Remove rows for kinship = -1 (one ID missing so don't need to be removed)\n",
    "data = data[data['Kinship'] != -1]"
   ]
  },
  {
   "cell_type": "code",
   "execution_count": null,
   "id": "04b1ecec",
   "metadata": {},
   "outputs": [],
   "source": [
    "# max 0.49 = siblings / parent / child\n",
    "# min 0.044200 = around second cousisns"
   ]
  },
  {
   "cell_type": "code",
   "execution_count": null,
   "id": "66a0ad9e",
   "metadata": {},
   "outputs": [],
   "source": [
    "rel_ids = data[['ID1','ID2']]"
   ]
  },
  {
   "cell_type": "markdown",
   "id": "648df7ba",
   "metadata": {},
   "source": [
    "### Step 2: Test code on dummy dataset"
   ]
  },
  {
   "cell_type": "code",
   "execution_count": null,
   "id": "0be97a51",
   "metadata": {},
   "outputs": [],
   "source": [
    "IDs2exclude = ['123', '129', '190', '199']"
   ]
  },
  {
   "cell_type": "code",
   "execution_count": null,
   "id": "6cdbf1cd",
   "metadata": {},
   "outputs": [],
   "source": [
    "data = {'IDs_a':['123', '124', '125', '126', '128', '129', '130'], 'IDs_b':['120', '130', '128', '140', '190', '198', '127']}"
   ]
  },
  {
   "cell_type": "code",
   "execution_count": null,
   "id": "0a332826",
   "metadata": {},
   "outputs": [],
   "source": [
    "rel_ids = pd.DataFrame(data)"
   ]
  },
  {
   "cell_type": "code",
   "execution_count": null,
   "id": "64d23b5a",
   "metadata": {},
   "outputs": [],
   "source": [
    "rel_ids"
   ]
  },
  {
   "cell_type": "code",
   "execution_count": null,
   "id": "c766ece4",
   "metadata": {},
   "outputs": [],
   "source": [
    "for i, j in zip(rel_ids.IDs_a, rel_ids.IDs_b):\n",
    "    if (i not in IDs2exclude and j not in IDs2exclude):\n",
    "        IDs2exclude.append(i)"
   ]
  },
  {
   "cell_type": "code",
   "execution_count": null,
   "id": "5ae03051",
   "metadata": {},
   "outputs": [],
   "source": [
    "IDs2exclude"
   ]
  },
  {
   "cell_type": "code",
   "execution_count": null,
   "id": "1a670b88",
   "metadata": {},
   "outputs": [],
   "source": [
    "#outcome should be: IDs2exclude = ['123', '129', '190', '199', '124', '125', '126', '130']"
   ]
  },
  {
   "cell_type": "markdown",
   "id": "ba447f7b",
   "metadata": {},
   "source": [
    "### Step 3: Run and write final list of samples to extract to file"
   ]
  },
  {
   "cell_type": "code",
   "execution_count": null,
   "id": "26352a68",
   "metadata": {},
   "outputs": [],
   "source": [
    "for i, j in zip(rel_ids.ID1, rel_ids.ID2):\n",
    "    if (i not in ids_to_exclude and j not in ids_to_exclude):\n",
    "        ids_to_exclude.append(i)"
   ]
  },
  {
   "cell_type": "code",
   "execution_count": null,
   "id": "ef8393d4",
   "metadata": {},
   "outputs": [],
   "source": [
    "print(ids_to_exclude[-10:-1]) # testing"
   ]
  },
  {
   "cell_type": "code",
   "execution_count": null,
   "id": "00c7a1ab",
   "metadata": {},
   "outputs": [],
   "source": [
    "len(ids_to_exclude)"
   ]
  },
  {
   "cell_type": "code",
   "execution_count": null,
   "id": "7bbd76f5",
   "metadata": {},
   "outputs": [],
   "source": [
    "# Write list of related individuals to remove to file\n",
    "with open(r\"\\\\wsl.localhost\\Ubuntu\\home\\lfahey\\ukb\\IDs_to_exclude_wrel.txt\", 'w') as file: \n",
    "    for item in ids_to_exclude:\n",
    "        file.write(\"{}\\n\".format(item))"
   ]
  },
  {
   "cell_type": "code",
   "execution_count": null,
   "id": "e4b0856b",
   "metadata": {},
   "outputs": [],
   "source": [
    "# Upload this file to RAP."
   ]
  }
 ],
 "metadata": {
  "kernelspec": {
   "display_name": "Python 3 (ipykernel)",
   "language": "python",
   "name": "python3"
  },
  "language_info": {
   "codemirror_mode": {
    "name": "ipython",
    "version": 3
   },
   "file_extension": ".py",
   "mimetype": "text/x-python",
   "name": "python",
   "nbconvert_exporter": "python",
   "pygments_lexer": "ipython3",
   "version": "3.10.10"
  }
 },
 "nbformat": 4,
 "nbformat_minor": 5
}
