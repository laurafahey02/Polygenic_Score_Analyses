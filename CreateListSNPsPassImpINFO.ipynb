{
 "cells": [
  {
   "cell_type": "markdown",
   "id": "88247fad",
   "metadata": {},
   "source": [
    "### Step 1: Download data from project to Jupyter environment "
   ]
  },
  {
   "cell_type": "code",
   "execution_count": null,
   "id": "63a5c6c8",
   "metadata": {},
   "outputs": [],
   "source": [
    "system(\"dx download 'project-GP8V3yjJXgZZ9vbKBFz74V2Q:/Bulk/Imputation/UKB imputation from genotype/*.mfi.txt'\")"
   ]
  },
  {
   "cell_type": "markdown",
   "id": "12f7d028",
   "metadata": {},
   "source": [
    "### Step 2: Test for smallest chromosome"
   ]
  },
  {
   "cell_type": "code",
   "execution_count": 8,
   "id": "1c5ce060",
   "metadata": {},
   "outputs": [],
   "source": [
    "chr22 <- read.table(\"ukb22828_c22_b0_v3.mfi.txt\", header = F)"
   ]
  },
  {
   "cell_type": "code",
   "execution_count": 9,
   "id": "97de9002",
   "metadata": {},
   "outputs": [],
   "source": [
    "names(chr22) <- c(\"Alternate_id\",\"RS_id\",\"Position\",\"Allele1\",\"Allele2\",\"MAF\",\"Minor_Allele\",\"Info_score\")"
   ]
  },
  {
   "cell_type": "code",
   "execution_count": 16,
   "id": "a61d9a3d",
   "metadata": {},
   "outputs": [],
   "source": [
    "chr22_pass_info <- chr22[chr22$Info_score > 0.7,]"
   ]
  },
  {
   "cell_type": "code",
   "execution_count": 18,
   "id": "9227362d",
   "metadata": {},
   "outputs": [],
   "source": [
    "chr22_passInfo$RS_id"
   ]
  },
  {
   "cell_type": "code",
   "execution_count": 21,
   "id": "9adb3ae9",
   "metadata": {},
   "outputs": [],
   "source": [
    "write.table(chr22_passInfo$RS_id, \"snpsTokeep_chr22\", quote = FALSE, row.names = FALSE, col.names=F)"
   ]
  },
  {
   "cell_type": "markdown",
   "id": "1f98232e",
   "metadata": {},
   "source": [
    "### Step 3: Run for all files"
   ]
  },
  {
   "cell_type": "code",
   "execution_count": 32,
   "id": "ca833a2e",
   "metadata": {},
   "outputs": [],
   "source": [
    "for (i in 1:22){\n",
    "mfi_chr <- read.table(paste(\"ukb22828_c\", i, \"_b0_v3.mfi.txt\", sep = \"\"), header = F)\n",
    "names(mfi_chr) <- c(\"Alternate_id\",\"RS_id\",\"Position\",\"Allele1\",\"Allele2\",\"MAF\",\"Minor_Allele\",\"Info_score\")\n",
    "snpsPassInfo <- mfi_chr[mfi_chr$Info_score > 0.7,]\n",
    "write.table(snpsPassInfo$RS_id, paste(\"snpsPassInfo_chr\", i, \".txt\", sep = \"\"), quote = FALSE, row.names = FALSE, col.names=F)}"
   ]
  },
  {
   "cell_type": "markdown",
   "id": "8d14853d",
   "metadata": {},
   "source": [
    "### Step 4: Upload all files generated to project"
   ]
  },
  {
   "cell_type": "code",
   "execution_count": 37,
   "id": "f8361466",
   "metadata": {},
   "outputs": [],
   "source": [
    "system(\"dx upload snpsPassInfo_chr* --path project-GP8V3yjJXgZZ9vbKBFz74V2Q:/genotype_qc/\")"
   ]
  }
 ],
 "metadata": {
  "kernelspec": {
   "display_name": "R",
   "language": "R",
   "name": "ir"
  },
  "language_info": {
   "codemirror_mode": "r",
   "file_extension": ".r",
   "mimetype": "text/x-r-source",
   "name": "R",
   "pygments_lexer": "r",
   "version": "4.2.0"
  }
 },
 "nbformat": 4,
 "nbformat_minor": 5
}
