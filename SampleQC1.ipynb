{
 "cells": [
  {
   "cell_type": "markdown",
   "id": "a940b56d",
   "metadata": {},
   "source": [
    "# UK Biobank QC"
   ]
  },
  {
   "cell_type": "markdown",
   "id": "f5395ccb",
   "metadata": {},
   "source": [
    "## Sample QC"
   ]
  },
  {
   "cell_type": "code",
   "execution_count": null,
   "id": "5669a751",
   "metadata": {},
   "outputs": [],
   "source": [
    "# Import modules\n",
    "import pandas as pd"
   ]
  },
  {
   "cell_type": "code",
   "execution_count": 2,
   "id": "9aa33eda",
   "metadata": {},
   "outputs": [],
   "source": [
    "%%bash\n",
    "dx download \"project-GP8V3yjJXgZZ9vbKBFz74V2Q:/sample_qc_participant.tsv\""
   ]
  },
  {
   "cell_type": "code",
   "execution_count": 3,
   "id": "77cd3ec4",
   "metadata": {},
   "outputs": [],
   "source": [
    "# Read in data as pandas dataframe\n",
    "data = pd.read_csv(\"sample_qc_participant.tsv\", sep='\\t')"
   ]
  },
  {
   "cell_type": "markdown",
   "id": "13a18b4c",
   "metadata": {},
   "source": [
    "#### p22021 - Genetic kinship to other participants"
   ]
  },
  {
   "cell_type": "code",
   "execution_count": 4,
   "id": "62e45d59",
   "metadata": {},
   "outputs": [
    {
     "data": {
      "text/plain": [
       "array([ 0.,  1., nan, -1., 10.])"
      ]
     },
     "execution_count": 4,
     "metadata": {},
     "output_type": "execute_result"
    }
   ],
   "source": [
    "data.p22021.unique()"
   ]
  },
  {
   "cell_type": "code",
   "execution_count": 7,
   "id": "f85786dc",
   "metadata": {},
   "outputs": [
    {
     "data": {
      "text/plain": [
       "188"
      ]
     },
     "execution_count": 7,
     "metadata": {},
     "output_type": "execute_result"
    }
   ],
   "source": [
    "len(data[data['p22021']==10.]) # what I want to exclude"
   ]
  },
  {
   "cell_type": "markdown",
   "id": "7aba0cdd",
   "metadata": {},
   "source": [
    "#### p22006 - Genetic ethnic grouping"
   ]
  },
  {
   "cell_type": "code",
   "execution_count": 8,
   "id": "6a62d604",
   "metadata": {},
   "outputs": [
    {
     "data": {
      "text/plain": [
       "array([ 1., nan])"
      ]
     },
     "execution_count": 8,
     "metadata": {},
     "output_type": "execute_result"
    }
   ],
   "source": [
    "data.p22006.unique()"
   ]
  },
  {
   "cell_type": "code",
   "execution_count": 11,
   "id": "b9ed1460",
   "metadata": {},
   "outputs": [
    {
     "data": {
      "text/plain": [
       "92853"
      ]
     },
     "execution_count": 11,
     "metadata": {},
     "output_type": "execute_result"
    }
   ],
   "source": [
    "len(data[data['p22006']!=1.]) # what I want to exclude"
   ]
  },
  {
   "cell_type": "markdown",
   "id": "7a5938d5",
   "metadata": {},
   "source": [
    "#### p22019 - Sex chromosomal aneuploidy"
   ]
  },
  {
   "cell_type": "code",
   "execution_count": 12,
   "id": "ed64be14",
   "metadata": {},
   "outputs": [
    {
     "data": {
      "text/plain": [
       "array([nan,  1.])"
      ]
     },
     "execution_count": 12,
     "metadata": {},
     "output_type": "execute_result"
    }
   ],
   "source": [
    "data.p22019.unique()"
   ]
  },
  {
   "cell_type": "code",
   "execution_count": 15,
   "id": "49ad9f04",
   "metadata": {},
   "outputs": [
    {
     "data": {
      "text/plain": [
       "651"
      ]
     },
     "execution_count": 15,
     "metadata": {},
     "output_type": "execute_result"
    }
   ],
   "source": [
    "len(data[data['p22019']==1.]) # what I want to exclude"
   ]
  },
  {
   "cell_type": "markdown",
   "id": "d4a0be8f",
   "metadata": {},
   "source": [
    "#### p22027 - Outliers due to heterozygosity or missing rate"
   ]
  },
  {
   "cell_type": "code",
   "execution_count": 16,
   "id": "560912c5",
   "metadata": {},
   "outputs": [
    {
     "data": {
      "text/plain": [
       "array([nan,  1.])"
      ]
     },
     "execution_count": 16,
     "metadata": {},
     "output_type": "execute_result"
    }
   ],
   "source": [
    "data.p22027.unique()"
   ]
  },
  {
   "cell_type": "code",
   "execution_count": 18,
   "id": "13e56f77",
   "metadata": {},
   "outputs": [
    {
     "data": {
      "text/plain": [
       "968"
      ]
     },
     "execution_count": 18,
     "metadata": {},
     "output_type": "execute_result"
    }
   ],
   "source": [
    "len(data[data['p22027']==1.]) # what I want to exclude"
   ]
  },
  {
   "cell_type": "markdown",
   "id": "88374e60",
   "metadata": {},
   "source": [
    "### Create list of samples to remove"
   ]
  },
  {
   "cell_type": "code",
   "execution_count": 19,
   "id": "0cd40f35",
   "metadata": {},
   "outputs": [],
   "source": [
    "data_to_remove = data[(data['p22021']==10.) | (data['p22006']!=1.) | (data['p22019']==1.) | (data['p22027']==1.)]"
   ]
  },
  {
   "cell_type": "code",
   "execution_count": 21,
   "id": "0e50cc44",
   "metadata": {},
   "outputs": [],
   "source": [
    "samples_to_remove = list(data_to_remove['eid'])"
   ]
  },
  {
   "cell_type": "code",
   "execution_count": null,
   "id": "8494c257",
   "metadata": {},
   "outputs": [],
   "source": [
    "# Write to file\n",
    "with open('ids_to_exclude.txt', 'w') as f:\n",
    "    for id in samples_to_remove:\n",
    "        f.write(\"%s\\n\" % id)"
   ]
  },
  {
   "cell_type": "markdown",
   "id": "a34be0b6",
   "metadata": {},
   "source": [
    "### Create list of related participants to remove"
   ]
  },
  {
   "cell_type": "code",
   "execution_count": null,
   "id": "292465e5",
   "metadata": {},
   "outputs": [],
   "source": [
    "# Read in rel file as pandas dataframe\n",
    "data = pd.read_csv(r\"\\\\wsl.localhost\\Ubuntu\\home\\lfahey\\ukb\\ukb_rel_a71469_s488140.dat\", sep=' ')"
   ]
  },
  {
   "cell_type": "code",
   "execution_count": null,
   "id": "1cbb7cb3",
   "metadata": {},
   "outputs": [],
   "source": [
    "# Read in ids to exclude (created above)\n",
    "with open(r\"\\\\wsl.localhost\\Ubuntu\\home\\lfahey\\ukb\\ids_to_exclude.txt\") as f:\n",
    "    ids_to_exclude = f.read().splitlines() "
   ]
  },
  {
   "cell_type": "code",
   "execution_count": null,
   "id": "cee469e2",
   "metadata": {},
   "outputs": [],
   "source": [
    "# Subset data file to only contain participant ID's\n",
    "rel_ids = data[['ID1','ID2']]"
   ]
  },
  {
   "cell_type": "code",
   "execution_count": null,
   "id": "816bce76",
   "metadata": {},
   "outputs": [],
   "source": [
    "# Loop through rel_ids and append to ids_to_exclude if not alread in ids_to_exclude\n",
    "for i, j in zip(rel_ids.ID1, rel_ids.ID2):\n",
    "    if (i not in ids_to_exclude and j not in ids_to_exclude):\n",
    "        ids_to_exclude.append(i)"
   ]
  },
  {
   "cell_type": "code",
   "execution_count": null,
   "id": "9775b1c8",
   "metadata": {},
   "outputs": [],
   "source": [
    "# Write list of related individuals to remove to file\n",
    "with open(r\"\\\\wsl.localhost\\Ubuntu\\home\\lfahey\\ukb\\IDs_to_exclude_wrel.txt\", 'w') as file: \n",
    "    for item in ids_to_exclude:\n",
    "        file.write(\"{}\\n\".format(item))\n",
    "# This file was then uploaded to UKB RAP."
   ]
  }
 ],
 "metadata": {
  "kernelspec": {
   "display_name": "Python 3 (ipykernel)",
   "language": "python",
   "name": "python3"
  },
  "language_info": {
   "codemirror_mode": {
    "name": "ipython",
    "version": 3
   },
   "file_extension": ".py",
   "mimetype": "text/x-python",
   "name": "python",
   "nbconvert_exporter": "python",
   "pygments_lexer": "ipython3",
   "version": "3.10.10"
  }
 },
 "nbformat": 4,
 "nbformat_minor": 5
}
